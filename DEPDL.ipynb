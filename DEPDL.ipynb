{
  "nbformat": 4,
  "nbformat_minor": 0,
  "metadata": {
    "colab": {
      "provenance": []
    },
    "kernelspec": {
      "name": "python3",
      "display_name": "Python 3"
    },
    "language_info": {
      "name": "python"
    },
    "accelerator": "GPU",
    "gpuClass": "standard"
  },
  "cells": [
    {
      "cell_type": "markdown",
      "source": [
        "DATA IMPORTING"
      ],
      "metadata": {
        "id": "H6HaVuGog-5X"
      }
    },
    {
      "cell_type": "code",
      "execution_count": null,
      "metadata": {
        "id": "etH6rTKKRzky"
      },
      "outputs": [],
      "source": [
        "import tensorflow as tf\n",
        "import numpy as np\n",
        "import csv\n",
        "import random\n",
        "import pandas as pd\n",
        "\n",
        "\n",
        "from tensorflow.keras.preprocessing.text import Tokenizer\n",
        "from tensorflow.keras.preprocessing.sequence import pad_sequences\n",
        "from tensorflow.keras.utils import to_categorical\n",
        "from tensorflow.keras import regularizers\n",
        "from tensorflow.keras import optimizers\n",
        "# from google.colab import drive\n",
        "# drive.mount('/content/drive') "
      ]
    },
    {
      "cell_type": "code",
      "source": [
        "np.random.seed(100)\n",
        "tf.random.set_seed(100)\n",
        "random.seed(100)"
      ],
      "metadata": {
        "id": "UxZlypj-USOy"
      },
      "execution_count": null,
      "outputs": []
    },
    {
      "cell_type": "code",
      "source": [
        "data = [] \n",
        "\n",
        "with open('dta_df.csv') as csvfile:\n",
        "  reader = csv.reader(csvfile)\n",
        "  next(reader) \n",
        "  for row in reader:\n",
        "      triplet = []\n",
        "      triplet.append(row[0])\n",
        "      triplet.append(row[1])\n",
        "      triplet.append(float(row[2]))\n",
        "      data.append(triplet)\n",
        "len(data)      "
      ],
      "metadata": {
        "id": "abjPSv07YeFK",
        "colab": {
          "base_uri": "https://localhost:8080/"
        },
        "outputId": "20fa10a5-b4d3-44f7-bfcd-8d2dcda54f8b"
      },
      "execution_count": null,
      "outputs": [
        {
          "output_type": "execute_result",
          "data": {
            "text/plain": [
              "23785"
            ]
          },
          "metadata": {},
          "execution_count": 19
        }
      ]
    },
    {
      "cell_type": "code",
      "source": [
        "data[10] "
      ],
      "metadata": {
        "colab": {
          "base_uri": "https://localhost:8080/"
        },
        "id": "Llv-vePYeyZ6",
        "outputId": "095129c3-97db-4947-c9a4-ed6f5f5e3b9f"
      },
      "execution_count": null,
      "outputs": [
        {
          "output_type": "execute_result",
          "data": {
            "text/plain": [
              "['CCC1C(=O)N(C2=CN=C(N=C2N1C3CCCC3)NC4=C(C=C(C=C4)C(=O)NC5CCN(CC5)C)OC)C',\n",
              " 'MKKFFDSRREQGGSGLGSGSSGGGGSTSGLGSGYIGRVFGIGRQQVTVDEVLAEGGFAIVFLVRTSNGMKCALKRMFVNNEHDLQVCKREIQIMRDLSGHKNIVGYIDSSINNVSSGDVWEVLILMDFCRGGQVVNLMNQRLQTGFTENEVLQIFCDTCEAVARLHQCKTPIIHRDLKVENILLHDRGHYVLCDFGSATNKFQNPQTEGVNAVEDEIKKYTTLSYRAPEMVNLYSGKIITTKADIWALGCLLYKLCYFTLPFGESQVAICDGNFTIPDNSRYSQDMHCLIRYMLEPDPDKRPDIYQVSYFSFKLLKKECPIPNVQNSPIPAKLPEPVKASEAAAKKTQPKARLTDPIPTTETSIAPRQRPKAGQTQPNPGILPIQPALTPRKRATVQPPPQAAGSSNQPGLLASVPQPKPQAPPSQPLPQTQAKQPQAPPTPQQTPSTQAQGLPAQAQATPQHQQQLFLKQQQQQQQPPPAQQQPAGTFYQQQQAQTQQFQAVHPATQKPAIAQFPVVSQGGSQQQLMQNFYQQQQQQQQQQQQQQLATALHQQQLMTQQAALQQKPTMAAGQQPQPQPAAAPQPAPAQEPAIQAPVRQQPKVQTTPPPAVQGQKVGSLTPPSSPKTQRAGHRRILSDVTHSAVFGVPASKSTQLLQAAAAEASLNKSKSATTTPSGSPRTSQQNVYNPSEGSTWNPFDDDNFSKLTAEELLNKDFAKLGEGKHPEKLGGSAESLIPGFQSTQGDAFATTSFSAGTAEKRKGGQTVDSGLPLLSVSDPFIPLQVPDAPEKLIEGLKSPDTSLLLPDLLPMTDPFGSTSDAVIEKADVAVESLIPGLEPPVPQRLPSQTESVTSNRTDSLTGEDSLLDCSLLSNPTTDLLEEFAPTAISAPVHKAAEDSNLISGFDVPEGSDKVAEDEFDPIPVLITKNPQGGHSRNSSGSSESSLPNLARSLLLVDQLIDL',\n",
              " 5.552841968657781]"
            ]
          },
          "metadata": {},
          "execution_count": 21
        }
      ]
    },
    {
      "cell_type": "code",
      "source": [
        "smiles = []\n",
        "proteins = []\n",
        "labels = []\n",
        "random.shuffle(data)\n",
        "\n",
        "for triplet in range(len(data)):\n",
        "  smiles.append(data[triplet][0])\n",
        "  proteins.append(data[triplet][1])\n",
        "  labels.append(data[triplet][2])"
      ],
      "metadata": {
        "id": "ehVEytpUaKrc"
      },
      "execution_count": null,
      "outputs": []
    },
    {
      "cell_type": "code",
      "source": [
        "print(smiles[10])\n",
        "print(proteins[10])\n",
        "print(labels[10])"
      ],
      "metadata": {
        "colab": {
          "base_uri": "https://localhost:8080/"
        },
        "id": "T6m9_WMxe4yJ",
        "outputId": "f5a8d8eb-436c-4933-cc36-ec41d6b954c4"
      },
      "execution_count": null,
      "outputs": [
        {
          "output_type": "stream",
          "name": "stdout",
          "text": [
            "CC12C(CC(O1)N3C4=CC=CC=C4C5=C6C(=C7C8=CC=CC=C8N2C7=C53)CNC6=O)(CO)O\n",
            "MVSWGRFICLVVVTMATLSLARPSFSLVEDTTLEPEEPPTKYQISQPEVYVAAPGESLEVRCLLKDAAVISWTKDGVHLGPNNRTVLIGEYLQIKGATPRDSGLYACTASRTVDSETWYFMVNVTDAISSGDDEDDTDGAEDFVSENSNNKRAPYWTNTEKMEKRLHAVPAANTVKFRCPAGGNPMPTMRWLKNGKEFKQEHRIGGYKVRNQHWSLIMESVVPSDKGNYTCVVENEYGSINHTYHLDVVERSPHRPILQAGLPANASTVVGGDVEFVCKVYSDAQPHIQWIKHVEKNGSKYGPDGLPYLKVLKAAGVNTTDKEIEVLYIRNVTFEDAGEYTCLAGNSIGISFHSAWLTVLPAPGREKEITASPDYLEIAIYCIGVFLIACMVVTVILCRMKNTTKKPDFSSQPAVHKLTKRIPLRRQVTVSAESSSSMNSNTPLVRITTRLSSTADTPMLAGVSEYELPEDPKWEFPRDKLTLGKPLGEGCFGQVVMAEAVGIDKDKPKEAVTVAVKMLKDDATEKDLSDLVSEMEMMKMIGKHKNIINLLGACTQDGPLYVIVEYASKGNLREYLRARRPPGMEYSYDINRVPEEQMTFKDLVSCTYQLARGMEYLASQKCIHRDLAARNVLVTENNVMKIADFGLARDINNIDYYKKTTNGRLPVKWMAPEALFDRVYTHQSDVWSFGVLMWEIFTLGGSPYPGIPVEELFKLLKEGHRMDKPANCTNELYMMMRDCWHAVPSQRPTFKQLVEDLDRILTLTTNEEYLDLSQPLEQYSPSYPDTRSSCSSGDDSVFSPDPMPYEPCLPQYPHINGSVKT\n",
            "6.180456064458132\n"
          ]
        }
      ]
    },
    {
      "cell_type": "code",
      "source": [
        "split = int(0.8 * len(smiles))\n",
        "train_smiles = smiles[:split]\n",
        "test_smiles = smiles[split:]\n",
        "train_proteins = proteins[:split]\n",
        "test_proteins = proteins[split:]\n",
        "train_labels = labels[:split]\n",
        "test_labels = labels[split:]"
      ],
      "metadata": {
        "id": "Y_hhKO1yaMgy"
      },
      "execution_count": null,
      "outputs": []
    },
    {
      "cell_type": "code",
      "source": [
        "tokenizer_smiles = Tokenizer(char_level = True)\n",
        "tokenizer_smiles.fit_on_texts(train_smiles)\n",
        "\n",
        "word_index_smiles = tokenizer_smiles.word_index\n",
        "vocab_size_smiles = len(word_index_smiles)\n",
        "\n",
        "train_sequences_smiles = tokenizer_smiles.texts_to_sequences(train_smiles)\n",
        "train_padded_smiles = pad_sequences(train_sequences_smiles, truncating = \"post\", padding = \"post\", maxlen = 85) \n",
        "\n",
        "test_sequences_smiles = tokenizer_smiles.texts_to_sequences(test_smiles)\n",
        "test_padded_smiles = pad_sequences(test_sequences_smiles, truncating = \"post\", padding = \"post\", maxlen = 85) "
      ],
      "metadata": {
        "id": "W4BwDF0WxPDa"
      },
      "execution_count": null,
      "outputs": []
    },
    {
      "cell_type": "code",
      "source": [
        "tokenizer_proteins = Tokenizer(char_level = True)\n",
        "tokenizer_proteins.fit_on_texts(train_proteins)\n",
        "\n",
        "word_index_proteins = tokenizer_proteins.word_index\n",
        "vocab_size_proteins = len(word_index_proteins)\n",
        "\n",
        "train_sequences_proteins = tokenizer_proteins.texts_to_sequences(train_proteins)\n",
        "train_padded_proteins = pad_sequences(train_sequences_proteins, truncating = \"post\", padding = \"post\", maxlen = 1200) \n",
        "\n",
        "test_sequences_proteins = tokenizer_proteins.texts_to_sequences(test_proteins)\n",
        "test_padded_proteins = pad_sequences(test_sequences_proteins, truncating = \"post\", padding = \"post\", maxlen = 1200) "
      ],
      "metadata": {
        "id": "y8XdnSoSxbJl"
      },
      "execution_count": null,
      "outputs": []
    },
    {
      "cell_type": "code",
      "source": [
        "print(vocab_size_smiles) \n",
        "print(vocab_size_proteins) "
      ],
      "metadata": {
        "colab": {
          "base_uri": "https://localhost:8080/"
        },
        "id": "qT8RI4VEfCPA",
        "outputId": "5d1e6849-52a6-46d2-b2bd-d54200f66a8a"
      },
      "execution_count": null,
      "outputs": [
        {
          "output_type": "stream",
          "name": "stdout",
          "text": [
            "22\n",
            "20\n"
          ]
        }
      ]
    },
    {
      "cell_type": "code",
      "source": [
        "train_smiles_array = np.array(train_padded_smiles)\n",
        "test_smiles_array = np.array(test_padded_smiles)\n",
        "train_proteins_array = np.array(train_padded_proteins)\n",
        "test_proteins_array = np.array(test_padded_proteins)\n",
        "train_labels_array = np.array(train_labels, dtype = \"float32\")\n",
        "test_labels_array = np.array(test_labels, dtype = \"float32\")\n",
        "\n",
        "print(f\"Train smiles array shape: {train_smiles_array.shape}\")\n",
        "print(f\"Test smiles array shape: {test_smiles_array.shape}\")\n",
        "print(f\"Train proteins array shape: {train_proteins_array.shape}\")\n",
        "print(f\"Test proteins array shape: {test_proteins_array.shape}\")\n",
        "print(f\"Train labels array shape: {train_labels_array.shape}\")\n",
        "print(f\"Test labels array shape: {test_labels_array.shape}\")"
      ],
      "metadata": {
        "colab": {
          "base_uri": "https://localhost:8080/"
        },
        "id": "-Osv62zJ0dvv",
        "outputId": "3e6ab830-a4ec-4440-f205-109983bfbc54"
      },
      "execution_count": null,
      "outputs": [
        {
          "output_type": "stream",
          "name": "stdout",
          "text": [
            "Train smiles array shape: (19028, 85)\n",
            "Test smiles array shape: (4757, 85)\n",
            "Train proteins array shape: (19028, 1200)\n",
            "Test proteins array shape: (4757, 1200)\n",
            "Train labels array shape: (19028,)\n",
            "Test labels array shape: (4757,)\n"
          ]
        }
      ]
    },
    {
      "cell_type": "markdown",
      "source": [
        "MODEL"
      ],
      "metadata": {
        "id": "lVi51A0FhF1m"
      }
    },
    {
      "cell_type": "code",
      "metadata": {
        "id": "vZK5fY-wfJ4F"
      },
      "source": [
        "from keras.layers import Input, Embedding, Concatenate, Conv1D, GlobalAveragePooling1D, Dense, Dropout, Bidirectional, LSTM, Flatten, GlobalMaxPooling1D\n",
        "from keras.models import Model\n",
        "\n",
        "smile_input = Input((85,)) \n",
        "protein_input = Input((1200,)) \n",
        "\n",
        "embed_smiles = Embedding(vocab_size_smiles, 128, input_length=85)(smile_input)\n",
        "conv_smiles = Conv1D(32, 4, activation = \"relu\")(embed_smiles)\n",
        "conv_smiles = Conv1D(64, 6, activation = \"relu\")(conv_smiles)\n",
        "conv_smiles = Conv1D(96, 8, activation = \"relu\")(conv_smiles)\n",
        "max_smiles = GlobalMaxPooling1D()(conv_smiles)\n",
        "\n",
        "embed_protein = Embedding(vocab_size_proteins+1, 128, input_length=1200)(protein_input)\n",
        "conv_protein = Conv1D(32, 4, activation = \"relu\")(embed_protein)\n",
        "conv_protein = Conv1D(64, 8, activation = \"relu\")(conv_protein)\n",
        "conv_protein = Conv1D(96, 12, activation = \"relu\")(conv_protein)\n",
        "max_protein = GlobalMaxPooling1D()(conv_protein)\n",
        "\n",
        "concat_layer = Concatenate()([max_smiles, max_protein])\n",
        "\n",
        "output = Dense(1024, activation = \"relu\")(concat_layer)\n",
        "output = Dropout(0.1)(output)\n",
        "output = Dense(1024, activation = \"relu\")(output)\n",
        "output = Dropout(0.1)(output)\n",
        "output = Dense(512, activation = \"relu\")(output)\n",
        "output = Dense(1)(output)\n",
        "\n",
        "model = Model(inputs = [smile_input, protein_input], outputs = output)"
      ],
      "execution_count": null,
      "outputs": []
    },
    {
      "cell_type": "code",
      "source": [
        "optimizer = optimizers.Adam(learning_rate = 0.001)\n",
        "model.compile(loss='mse', optimizer = optimizer, metrics=['mse'])"
      ],
      "metadata": {
        "id": "pr5_t3V__nbx"
      },
      "execution_count": null,
      "outputs": []
    },
    {
      "cell_type": "code",
      "source": [
        "model.summary()"
      ],
      "metadata": {
        "id": "mLgZ90njsJyg",
        "outputId": "9858d525-d93f-44b9-caaa-96f4547b9e32",
        "colab": {
          "base_uri": "https://localhost:8080/"
        }
      },
      "execution_count": null,
      "outputs": [
        {
          "output_type": "stream",
          "name": "stdout",
          "text": [
            "Model: \"model_2\"\n",
            "__________________________________________________________________________________________________\n",
            " Layer (type)                   Output Shape         Param #     Connected to                     \n",
            "==================================================================================================\n",
            " input_5 (InputLayer)           [(None, 85)]         0           []                               \n",
            "                                                                                                  \n",
            " input_6 (InputLayer)           [(None, 1200)]       0           []                               \n",
            "                                                                                                  \n",
            " embedding_4 (Embedding)        (None, 85, 128)      2816        ['input_5[0][0]']                \n",
            "                                                                                                  \n",
            " embedding_5 (Embedding)        (None, 1200, 128)    2688        ['input_6[0][0]']                \n",
            "                                                                                                  \n",
            " conv1d_12 (Conv1D)             (None, 82, 32)       16416       ['embedding_4[0][0]']            \n",
            "                                                                                                  \n",
            " conv1d_15 (Conv1D)             (None, 1197, 32)     16416       ['embedding_5[0][0]']            \n",
            "                                                                                                  \n",
            " conv1d_13 (Conv1D)             (None, 77, 64)       12352       ['conv1d_12[0][0]']              \n",
            "                                                                                                  \n",
            " conv1d_16 (Conv1D)             (None, 1190, 64)     16448       ['conv1d_15[0][0]']              \n",
            "                                                                                                  \n",
            " conv1d_14 (Conv1D)             (None, 70, 96)       49248       ['conv1d_13[0][0]']              \n",
            "                                                                                                  \n",
            " conv1d_17 (Conv1D)             (None, 1179, 96)     73824       ['conv1d_16[0][0]']              \n",
            "                                                                                                  \n",
            " global_max_pooling1d_4 (Global  (None, 96)          0           ['conv1d_14[0][0]']              \n",
            " MaxPooling1D)                                                                                    \n",
            "                                                                                                  \n",
            " global_max_pooling1d_5 (Global  (None, 96)          0           ['conv1d_17[0][0]']              \n",
            " MaxPooling1D)                                                                                    \n",
            "                                                                                                  \n",
            " concatenate_2 (Concatenate)    (None, 192)          0           ['global_max_pooling1d_4[0][0]', \n",
            "                                                                  'global_max_pooling1d_5[0][0]'] \n",
            "                                                                                                  \n",
            " dense_8 (Dense)                (None, 1024)         197632      ['concatenate_2[0][0]']          \n",
            "                                                                                                  \n",
            " dropout_4 (Dropout)            (None, 1024)         0           ['dense_8[0][0]']                \n",
            "                                                                                                  \n",
            " dense_9 (Dense)                (None, 1024)         1049600     ['dropout_4[0][0]']              \n",
            "                                                                                                  \n",
            " dropout_5 (Dropout)            (None, 1024)         0           ['dense_9[0][0]']                \n",
            "                                                                                                  \n",
            " dense_10 (Dense)               (None, 512)          524800      ['dropout_5[0][0]']              \n",
            "                                                                                                  \n",
            " dense_11 (Dense)               (None, 1)            513         ['dense_10[0][0]']               \n",
            "                                                                                                  \n",
            "==================================================================================================\n",
            "Total params: 1,962,753\n",
            "Trainable params: 1,962,753\n",
            "Non-trainable params: 0\n",
            "__________________________________________________________________________________________________\n"
          ]
        }
      ]
    },
    {
      "cell_type": "code",
      "source": [
        "tf.keras.utils.plot_model(model)"
      ],
      "metadata": {
        "colab": {
          "base_uri": "https://localhost:8080/",
          "height": 1000
        },
        "id": "S0PMTmEP_rXQ",
        "outputId": "c9806171-56cb-45c7-cce0-1bd39437842e"
      },
      "execution_count": null,
      "outputs": [
        {
          "output_type": "execute_result",
          "data": {
            "image/png": "[encoded data removed]",
            "text/plain": [
              "<IPython.core.display.Image object>"
            ]
          },
          "metadata": {},
          "execution_count": 23
        }
      ]
    },
    {
      "cell_type": "code",
      "source": [
        "from tensorflow.keras.callbacks import EarlyStopping\n",
        "\n",
        "early_stopping = EarlyStopping(\n",
        "    min_delta=0.001,\n",
        "    patience=10,\n",
        "    restore_best_weights=True,\n",
        ")\n",
        "\n",
        "history = model.fit([train_smiles_array, train_proteins_array], train_labels_array, \n",
        "                    epochs = 1, batch_size = 256, validation_data = ([test_smiles_array, test_proteins_array], test_labels_array), callbacks = [early_stopping])"
      ],
      "metadata": {
        "colab": {
          "base_uri": "https://localhost:8080/"
        },
        "id": "8rfzAZgOEPgV",
        "outputId": "a424ecc3-b5d1-4623-999a-ed875178ae66"
      },
      "execution_count": null,
      "outputs": [
        {
          "output_type": "stream",
          "name": "stdout",
          "text": [
            "Epoch 1/10\n",
            "84/84 [==============================] - 510s 6s/step - loss: 1.8377 - mse: 1.8377 - val_loss: 0.4569 - val_mse: 0.4569\n",
            "Epoch 2/10\n",
            "84/84 [==============================] - 527s 6s/step - loss: 0.4985 - mse: 0.4985 - val_loss: 0.4396 - val_mse: 0.4396\n",
            "Epoch 3/10\n",
            "84/84 [==============================] - 545s 6s/step - loss: 0.4859 - mse: 0.4859 - val_loss: 0.4223 - val_mse: 0.4223\n",
            "Epoch 4/10\n",
            "84/84 [==============================] - 529s 6s/step - loss: 0.4829 - mse: 0.4829 - val_loss: 0.4118 - val_mse: 0.4118\n",
            "Epoch 5/10\n",
            "84/84 [==============================] - 532s 6s/step - loss: 0.4964 - mse: 0.4964 - val_loss: 0.4690 - val_mse: 0.4690\n",
            "Epoch 6/10\n",
            "84/84 [==============================] - 531s 6s/step - loss: 0.4837 - mse: 0.4837 - val_loss: 0.4114 - val_mse: 0.4114\n",
            "Epoch 7/10\n",
            "84/84 [==============================] - 531s 6s/step - loss: 0.4558 - mse: 0.4558 - val_loss: 0.4288 - val_mse: 0.4288\n",
            "Epoch 8/10\n",
            "84/84 [==============================] - 532s 6s/step - loss: 0.4652 - mse: 0.4652 - val_loss: 0.4308 - val_mse: 0.4308\n",
            "Epoch 9/10\n",
            "84/84 [==============================] - 533s 6s/step - loss: 0.4804 - mse: 0.4804 - val_loss: 0.4301 - val_mse: 0.4301\n",
            "Epoch 10/10\n",
            "84/84 [==============================] - 530s 6s/step - loss: 0.4577 - mse: 0.4577 - val_loss: 0.4193 - val_mse: 0.4193\n"
          ]
        }
      ]
    },
    {
      "cell_type": "code",
      "source": [
        "import matplotlib.pyplot as plt\n",
        "\n",
        "mse=history.history['mse']\n",
        "val_mse=history.history['val_mse']\n",
        "loss=history.history['loss']\n",
        "val_loss=history.history['val_loss']\n",
        "\n",
        "epochs=range(len(mse)) \n",
        "\n",
        "plt.plot(epochs, mse, 'r')\n",
        "plt.plot(epochs, val_mse, 'b')\n",
        "plt.title('Training and Validation MSE')\n",
        "plt.xlabel(\"Epochs\")\n",
        "plt.ylabel(\"MSE\")\n",
        "plt.legend([\"Training MSE\", \"Validation MSE\"])\n",
        "\n",
        "plt.figure()"
      ],
      "metadata": {
        "id": "b3WCMqNNEcpi",
        "colab": {
          "base_uri": "https://localhost:8080/",
          "height": 507
        },
        "outputId": "92d0fbb1-3c4f-4bee-cbf4-097f64940b19"
      },
      "execution_count": null,
      "outputs": [
        {
          "output_type": "execute_result",
          "data": {
            "text/plain": [
              "<Figure size 640x480 with 0 Axes>"
            ]
          },
          "metadata": {},
          "execution_count": 25
        },
        {
          "output_type": "display_data",
          "data": {
            "text/plain": [
              "<Figure size 640x480 with 1 Axes>"
            ],
            "image/png": "[encoded data removed]"
          },
          "metadata": {}
        },
        {
          "output_type": "display_data",
          "data": {
            "text/plain": [
              "<Figure size 640x480 with 0 Axes>"
            ]
          },
          "metadata": {}
        }
      ]
    },
    {
      "cell_type": "code",
      "source": [],
      "metadata": {
        "id": "BUDfN8qukiR4"
      },
      "execution_count": null,
      "outputs": []
    }
  ]
}